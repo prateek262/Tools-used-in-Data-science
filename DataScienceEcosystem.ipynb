{
 "cells": [
  {
   "cell_type": "markdown",
   "metadata": {},
   "source": [
    "<center>\n",
    "    <img src=\"https://cf-courses-data.s3.us.cloud-object-storage.appdomain.cloud/IBMDeveloperSkillsNetwork-DS0105EN-SkillsNetwork/labs/Module2/images/SN_web_lightmode.png\" width=\"300\" alt=\"cognitiveclass.ai logo\">\n",
    "</center>\n"
   ]
  },
  {
   "cell_type": "markdown",
   "metadata": {
    "slideshow": {
     "slide_type": "fragment"
    },
    "tags": []
   },
   "source": [
    "# Data Science Tools and Ecosystem"
   ]
  },
  {
   "cell_type": "markdown",
   "metadata": {},
   "source": [
    "In this notebook, Data Science Tools and Ecosystem are summarized."
   ]
  },
  {
   "cell_type": "markdown",
   "metadata": {},
   "source": [
    "**Objectives:**\n",
    "\n",
    "+ List popular languages for Data Science\n",
    "+ Libraries, APIS, Datasets and Model\n",
    "+ Jupyter Notebooks and Jupyterlab\n",
    "+ RStudio & Github"
   ]
  },
  {
   "cell_type": "markdown",
   "metadata": {},
   "source": [
    "Some of the popular languages that Data Scientists use are:\n",
    "1. Python: Widely used for its simplicity and extensive libraries like NumPy, pandas, scikit-learn, and TensorFlow.\n",
    "2. R: Known for its strong statistical capabilities and graphical libraries such as ggplot2 and dplyr.\n",
    "3. SQL: Essential for managing and querying databases, which is a crucial part of data analysis."
   ]
  },
  {
   "cell_type": "markdown",
   "metadata": {},
   "source": [
    "Some of the commonly used libraries used by Data Scientists include:\n",
    "1. NumPy: Fundamental package for numerical computing in Python. It provides support for arrays, matrices, and a large collection of mathematical functions.\n",
    "2. pandas: A powerful library for data manipulation and analysis, providing data structures like DataFrames that make data handling and cleaning easy.\n",
    "3. scikit-learn: A comprehensive library for machine learning in Python, offering simple and efficient tools for data mining and data analysis.\n",
    "4. TensorFlow: An open-source library for deep learning developed by Google. It is widely used for building and training neural networks.\n",
    "5. Matplotlib: A plotting library for Python that provides functions for creating static, animated, and interactive visualizations."
   ]
  },
  {
   "cell_type": "markdown",
   "metadata": {},
   "source": [
    "Data Science Tools\n",
    "\n",
    "| Tool           | Category       | Description                                                                 |\n",
    "|----------------|----------------|-----------------------------------------------------------------------------|\n",
    "| Jupyter Notebook | IDE            | An open-source web application for creating and sharing documents with live code. |\n",
    "| Anaconda       | Distribution    | A distribution of Python and R for scientific computing and data science.   |\n",
    "| Tableau        | Visualization   | A powerful tool for creating interactive and shareable dashboards.          |\n",
    "| Apache Spark   | Big Data        | An open-source distributed computing system for big data processing.        |\n",
    "| Git            | Version Control | A version control system for tracking changes in source code during software development. |\n"
   ]
  },
  {
   "cell_type": "markdown",
   "metadata": {},
   "source": [
    "### Below are a few examples of evaluating arithmetic expressions in Python"
   ]
  },
  {
   "cell_type": "markdown",
   "metadata": {},
   "source": [
    "This a simple arithmetic expression to mutiply then add integers"
   ]
  },
  {
   "cell_type": "code",
   "execution_count": 3,
   "metadata": {
    "tags": []
   },
   "outputs": [
    {
     "data": {
      "text/plain": [
       "17"
      ]
     },
     "execution_count": 3,
     "metadata": {},
     "output_type": "execute_result"
    }
   ],
   "source": [
    "(3*4)+5"
   ]
  },
  {
   "cell_type": "markdown",
   "metadata": {},
   "source": [
    "This will convert 200 minutes to hours by diving by 60"
   ]
  },
  {
   "cell_type": "code",
   "execution_count": 5,
   "metadata": {
    "tags": []
   },
   "outputs": [
    {
     "name": "stdout",
     "output_type": "stream",
     "text": [
      "3.3333333333333335\n"
     ]
    }
   ],
   "source": [
    "minutes = 200\n",
    "hours = minutes / 60\n",
    "print(hours)"
   ]
  },
  {
   "cell_type": "markdown",
   "metadata": {},
   "source": [
    "## Author\n",
    "Prateek"
   ]
  }
 ],
 "metadata": {
  "kernelspec": {
   "display_name": "Python",
   "language": "python",
   "name": "conda-env-python-py"
  },
  "language_info": {
   "codemirror_mode": {
    "name": "ipython",
    "version": 3
   },
   "file_extension": ".py",
   "mimetype": "text/x-python",
   "name": "python",
   "nbconvert_exporter": "python",
   "pygments_lexer": "ipython3",
   "version": "3.7.12"
  }
 },
 "nbformat": 4,
 "nbformat_minor": 4
}
